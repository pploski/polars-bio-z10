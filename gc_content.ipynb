{
 "cells": [
  {
   "cell_type": "markdown",
   "id": "6d59ed30",
   "metadata": {},
   "source": [
    "# Imports"
   ]
  },
  {
   "cell_type": "code",
   "execution_count": 9,
   "id": "1ebfb415",
   "metadata": {},
   "outputs": [],
   "source": [
    "import polars_bio as pb\n",
    "import matplotlib.pyplot as plt\n",
    "import time\n",
    "from pathlib import Path"
   ]
  },
  {
   "cell_type": "markdown",
   "id": "f0dcaa77",
   "metadata": {},
   "source": [
    "# Read"
   ]
  },
  {
   "cell_type": "code",
   "execution_count": 10,
   "id": "52c08b49",
   "metadata": {},
   "outputs": [
    {
     "name": "stderr",
     "output_type": "stream",
     "text": [
      "INFO:polars_bio:Table: example registered for path: example.fastq\n",
      "200rows [00:00, 5555.63rows/s]\n"
     ]
    }
   ],
   "source": [
    "df = pb.read_fastq(\"example.fastq\").collect()"
   ]
  },
  {
   "cell_type": "code",
   "execution_count": 11,
   "id": "f907b32f",
   "metadata": {},
   "outputs": [
    {
     "name": "stderr",
     "output_type": "stream",
     "text": [
      "6rows [00:00, 1000.03rows/s]\n"
     ]
    },
    {
     "data": {
      "text/html": [
       "<div><style>\n",
       ".dataframe > thead > tr,\n",
       ".dataframe > tbody > tr {\n",
       "  text-align: right;\n",
       "  white-space: pre-wrap;\n",
       "}\n",
       "</style>\n",
       "<small>shape: (6, 4)</small><table border=\"1\" class=\"dataframe\"><thead><tr><th>table_catalog</th><th>table_schema</th><th>table_name</th><th>table_type</th></tr><tr><td>str</td><td>str</td><td>str</td><td>str</td></tr></thead><tbody><tr><td>&quot;datafusion&quot;</td><td>&quot;public&quot;</td><td>&quot;example&quot;</td><td>&quot;BASE TABLE&quot;</td></tr><tr><td>&quot;datafusion&quot;</td><td>&quot;information_schema&quot;</td><td>&quot;tables&quot;</td><td>&quot;VIEW&quot;</td></tr><tr><td>&quot;datafusion&quot;</td><td>&quot;information_schema&quot;</td><td>&quot;views&quot;</td><td>&quot;VIEW&quot;</td></tr><tr><td>&quot;datafusion&quot;</td><td>&quot;information_schema&quot;</td><td>&quot;columns&quot;</td><td>&quot;VIEW&quot;</td></tr><tr><td>&quot;datafusion&quot;</td><td>&quot;information_schema&quot;</td><td>&quot;df_settings&quot;</td><td>&quot;VIEW&quot;</td></tr><tr><td>&quot;datafusion&quot;</td><td>&quot;information_schema&quot;</td><td>&quot;schemata&quot;</td><td>&quot;VIEW&quot;</td></tr></tbody></table></div>"
      ],
      "text/plain": [
       "shape: (6, 4)\n",
       "┌───────────────┬────────────────────┬─────────────┬────────────┐\n",
       "│ table_catalog ┆ table_schema       ┆ table_name  ┆ table_type │\n",
       "│ ---           ┆ ---                ┆ ---         ┆ ---        │\n",
       "│ str           ┆ str                ┆ str         ┆ str        │\n",
       "╞═══════════════╪════════════════════╪═════════════╪════════════╡\n",
       "│ datafusion    ┆ public             ┆ example     ┆ BASE TABLE │\n",
       "│ datafusion    ┆ information_schema ┆ tables      ┆ VIEW       │\n",
       "│ datafusion    ┆ information_schema ┆ views       ┆ VIEW       │\n",
       "│ datafusion    ┆ information_schema ┆ columns     ┆ VIEW       │\n",
       "│ datafusion    ┆ information_schema ┆ df_settings ┆ VIEW       │\n",
       "│ datafusion    ┆ information_schema ┆ schemata    ┆ VIEW       │\n",
       "└───────────────┴────────────────────┴─────────────┴────────────┘"
      ]
     },
     "execution_count": 11,
     "metadata": {},
     "output_type": "execute_result"
    }
   ],
   "source": [
    "pb.sql(\"show tables\").collect()"
   ]
  },
  {
   "cell_type": "code",
   "execution_count": null,
   "id": "fb578454",
   "metadata": {},
   "outputs": [
    {
     "name": "stderr",
     "output_type": "stream",
     "text": [
      "200rows [00:00, 18180.77rows/s]\n"
     ]
    }
   ],
   "source": [
    "df = pb.sql(\"SELECT my_gc_content(sequence) AS gc FROM example\").collect()\n",
    "# approx 15k - 40k rows/s"
   ]
  },
  {
   "cell_type": "code",
   "execution_count": 13,
   "id": "6eb2a0c8",
   "metadata": {},
   "outputs": [
    {
     "data": {
      "image/png": "[encoded data removed]",
      "text/plain": [
       "<Figure size 640x480 with 1 Axes>"
      ]
     },
     "metadata": {},
     "output_type": "display_data"
    }
   ],
   "source": [
    "plt.hist(df, bins=35)\n",
    "plt.xlabel(\"GC content\")\n",
    "plt.ylabel(\"Count\")\n",
    "plt.title(\"GC Content Distribution my implementation\")\n",
    "plt.show()"
   ]
  }
 ],
 "metadata": {
  "kernelspec": {
   "display_name": ".venv",
   "language": "python",
   "name": "python3"
  },
  "language_info": {
   "codemirror_mode": {
    "name": "ipython",
    "version": 3
   },
   "file_extension": ".py",
   "mimetype": "text/x-python",
   "name": "python",
   "nbconvert_exporter": "python",
   "pygments_lexer": "ipython3",
   "version": "3.9.4"
  }
 },
 "nbformat": 4,
 "nbformat_minor": 5
}
